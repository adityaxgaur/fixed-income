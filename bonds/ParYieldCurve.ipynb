{
 "cells": [
  {
   "cell_type": "markdown",
   "metadata": {},
   "source": [
    "### Cursory overview of  bond yield curve"
   ]
  },
  {
   "cell_type": "markdown",
   "metadata": {},
   "source": [
    "Bond yield curve is yield to maturity for bond with different maturity.\n",
    "\n",
    "This notebook illustrates the below concepts using UK Gilt prices:\n",
    "\n",
    "* calculation of par yield from bond prices of different maturities\n",
    "* Interpolation of yield curve\n",
    "* bootstrapping of spot rates from yield curves\n",
    "\n",
    "UK Gilt prices are sourced from https://www.fixedincomeinvestor.co.uk/x/bondtable.html"
   ]
  },
  {
   "cell_type": "code",
   "execution_count": 1,
   "metadata": {},
   "outputs": [
    {
     "name": "stdout",
     "output_type": "stream",
     "text": [
      "(29, 9)\n",
      "[datetime.date(2020, 9, 7), datetime.date(2021, 1, 22), datetime.date(2021, 6, 7), datetime.date(2021, 9, 7), datetime.date(2022, 3, 7), datetime.date(2022, 7, 9), datetime.date(2022, 7, 22), datetime.date(2023, 9, 7), datetime.date(2024, 9, 7), datetime.date(2025, 3, 7), datetime.date(2025, 9, 7), datetime.date(2026, 6, 22), datetime.date(2027, 12, 7), datetime.date(2028, 12, 7), datetime.date(2030, 12, 7), datetime.date(2032, 6, 7), datetime.date(2034, 9, 7), datetime.date(2036, 3, 7), datetime.date(2038, 12, 7), datetime.date(2039, 9, 7), datetime.date(2040, 12, 7), datetime.date(2042, 12, 7), datetime.date(2045, 1, 22), datetime.date(2046, 12, 7), datetime.date(2049, 12, 7), datetime.date(2055, 12, 7), datetime.date(2060, 1, 22), datetime.date(2065, 7, 22), datetime.date(2068, 7, 22)]\n"
     ]
    }
   ],
   "source": [
    "import pandas as pd\n",
    "import scipy\n",
    "import numpy as np\n",
    "from datetime import datetime\n",
    "import bondfns\n",
    "\n",
    "bond_data = pd.read_csv('./data/gilts_2020_03_18.csv', index_col = None, parse_dates=['Maturity'])\n",
    "print(bond_data.shape)\n",
    "print(sorted([dt.date() for dt in bond_data['Maturity'].to_list()]))"
   ]
  },
  {
   "cell_type": "markdown",
   "metadata": {},
   "source": [
    "*bond_data* conatins prices and coupon for bonds of various maturities (from 6m to 48Y).\n",
    "\n",
    "Below code calculates yield to maturity by solving bond PV formula using newton method : \n",
    "\n",
    "$ PV = \\frac{c}{y} \\left(1-\\frac{1}{(1+y)^n} \\right) + \\frac{FV}{(1+y)^n}$"
   ]
  },
  {
   "cell_type": "code",
   "execution_count": 2,
   "metadata": {},
   "outputs": [],
   "source": [
    "today = datetime(2020, 3, 19)\n",
    "ttm = [(maturity - today).days / 360 for maturity in bond_data['Maturity']]\n",
    "bond_data['ttm'] = ttm\n",
    "\n",
    "ttm_list, ytm_list = [], []\n",
    "freq = 2 # semi-annual\n",
    "for i, row in bond_data.iterrows():\n",
    "    ttm = row['ttm']\n",
    "    price = row['Price']\n",
    "    cpn = row['Cpn']\n",
    "    ytm = bondfns.calc_ytm(price, ttm, freq , cpn, fv=100)\n",
    "    ttm_list.append(ttm)\n",
    "    ytm_list.append(ytm)\n"
   ]
  },
  {
   "cell_type": "code",
   "execution_count": 3,
   "metadata": {},
   "outputs": [],
   "source": [
    "max_tnr = 49\n",
    "interp_ytm = bondfns.interpolate_ytm(ttm_list, ytm_list, max_tnr)"
   ]
  },
  {
   "cell_type": "markdown",
   "metadata": {},
   "source": [
    "#### Calculate bond par yield or spot rate  by bootstrapping\n",
    "We can use the interpolated YTM, obtained above, to imply spot rates. Since for a par bond, coupon = yield, we can solve the below equation iteratively for a hypotentical par bond with annual freq and coupon = YTM   \n",
    "\n",
    "$ \\sum_{j=0}^{i-1} \\frac{cpn_i}{(1+r_j)^j} + \\frac{1+cpn_i}{1+r_j} = 1$\n"
   ]
  },
  {
   "cell_type": "code",
   "execution_count": 5,
   "metadata": {},
   "outputs": [],
   "source": [
    "T = list(range(1,max_tnr))\n",
    "S = []\n",
    "for i in range(len(T)):\n",
    "    prev_ann_sum = 0.\n",
    "    cpn = interp_ytm[i]\n",
    "    for j in range(i):\n",
    "        prev_ann_sum += cpn / (1+S[j])**T[j]\n",
    "    srate = ((1+cpn)/(1-prev_ann_sum))**(1/T[i]) - 1\n",
    "    S.append(srate)"
   ]
  },
  {
   "cell_type": "code",
   "execution_count": 8,
   "metadata": {},
   "outputs": [
    {
     "data": {
      "image/png": "[encoded data removed]",
      "text/plain": [
       "<Figure size 432x288 with 1 Axes>"
      ]
     },
     "metadata": {
      "needs_background": "light"
     },
     "output_type": "display_data"
    }
   ],
   "source": [
    "import matplotlib.pyplot as plt\n",
    "import numpy as np\n",
    "\n",
    "plt.xlabel('TTM'),plt.ylabel('YTM'), plt.grid(True)\n",
    "plt.plot(ttm_list, np.array(ytm_list)*100, label='YTM')\n",
    "plt.plot(T, np.array(interp_ytm)*100,label='Interpolated YTM')\n",
    "plt.plot(T, np.array(S)*100, label='Spot')\n",
    "plt.legend(loc=0), plt.show();"
   ]
  }
 ],
 "metadata": {
  "kernelspec": {
   "display_name": "Python 3",
   "language": "python",
   "name": "python3"
  },
  "language_info": {
   "codemirror_mode": {
    "name": "ipython",
    "version": 3
   },
   "file_extension": ".py",
   "mimetype": "text/x-python",
   "name": "python",
   "nbconvert_exporter": "python",
   "pygments_lexer": "ipython3",
   "version": "3.7.6"
  }
 },
 "nbformat": 4,
 "nbformat_minor": 4
}
